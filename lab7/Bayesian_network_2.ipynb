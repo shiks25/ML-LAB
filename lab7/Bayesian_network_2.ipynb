{
  "nbformat": 4,
  "nbformat_minor": 0,
  "metadata": {
    "colab": {
      "name": "Bayesian_network#2.ipynb",
      "provenance": []
    },
    "kernelspec": {
      "name": "python3",
      "display_name": "Python 3"
    },
    "language_info": {
      "name": "python"
    }
  },
  "cells": [
    {
      "cell_type": "code",
      "metadata": {
        "id": "Cw0vWAd8D9i2"
      },
      "source": [
        "#!pip install pgmpy -q"
      ],
      "execution_count": 1,
      "outputs": []
    },
    {
      "cell_type": "code",
      "metadata": {
        "id": "rEUfp9o63kXA",
        "colab": {
          "base_uri": "https://localhost:8080/"
        },
        "outputId": "9fd7d706-5fc2-40c3-858b-caff87873b5f"
      },
      "source": [
        "import numpy as np\n",
        "import pandas as pd\n",
        "from pgmpy.estimators import MaximumLikelihoodEstimator\n",
        "from pgmpy.models import BayesianModel\n",
        "from pgmpy.inference import VariableElimination"
      ],
      "execution_count": 2,
      "outputs": [
        {
          "output_type": "stream",
          "text": [
            "/usr/local/lib/python3.7/dist-packages/statsmodels/tools/_testing.py:19: FutureWarning: pandas.util.testing is deprecated. Use the functions in the public API at pandas.testing instead.\n",
            "  import pandas.util.testing as tm\n"
          ],
          "name": "stderr"
        }
      ]
    },
    {
      "cell_type": "code",
      "metadata": {
        "id": "cFEh0aE04H7x",
        "colab": {
          "base_uri": "https://localhost:8080/"
        },
        "outputId": "25786d33-8636-46d1-a662-29c29ab726bb"
      },
      "source": [
        "data = pd.read_csv('pima_indian.csv')\n",
        "data = data.replace('?',np.nan)\n",
        "print(data.head())\n",
        "print('\\nAttributes are:\\n')\n",
        "print(data.dtypes)"
      ],
      "execution_count": 3,
      "outputs": [
        {
          "output_type": "stream",
          "text": [
            "   num_preg  glucose_conc  diastolic_bp  ...  diab_pred  age  diabetes\n",
            "0         6           148            72  ...      0.627   50         1\n",
            "1         1            85            66  ...      0.351   31         0\n",
            "2         8           183            64  ...      0.672   32         1\n",
            "3         1            89            66  ...      0.167   21         0\n",
            "4         0           137            40  ...      2.288   33         1\n",
            "\n",
            "[5 rows x 9 columns]\n",
            "\n",
            "Attributes are:\n",
            "\n",
            "num_preg          int64\n",
            "glucose_conc      int64\n",
            "diastolic_bp      int64\n",
            "thickness         int64\n",
            "insulin           int64\n",
            "bmi             float64\n",
            "diab_pred       float64\n",
            "age               int64\n",
            "diabetes          int64\n",
            "dtype: object\n"
          ],
          "name": "stdout"
        }
      ]
    },
    {
      "cell_type": "code",
      "metadata": {
        "id": "GxZfWNGH4Pvy",
        "colab": {
          "base_uri": "https://localhost:8080/"
        },
        "outputId": "2d2968fa-f3ad-4014-9d2e-e7ed7f9f132c"
      },
      "source": [
        "model = BayesianModel([('bmi','diabetes'),('diab_pred','diabetes'),\n",
        "                       ('diabetes','glucose_conc'),('diabetes','insulin')])\n",
        "\n",
        "model.fit(data, estimator = MaximumLikelihoodEstimator)\n",
        "\n",
        "disease_infer = VariableElimination(model)\n",
        "\n",
        "print('\\n 1.Probability of Diabetes given evidence insulin=300')\n",
        "q1=disease_infer.query(variables=['diabetes'],evidence={'insulin':300})\n",
        "print(q1)\n",
        "\n",
        "\n",
        "print('\\n 2.Probability of Diabetes given evidence glucose concentration=183')\n",
        "q2=disease_infer.query(variables=['diabetes'],evidence={'glucose_conc':183})\n",
        "print(q2)\n",
        "\n",
        "print('\\n 3.Probability of Diabetes given evidence bmi=25.6')\n",
        "q3=disease_infer.query(variables=['diabetes'],evidence={'bmi':25.6})\n",
        "print(q3)\n"
      ],
      "execution_count": 5,
      "outputs": [
        {
          "output_type": "stream",
          "text": [
            "Finding Elimination Order: : 100%|██████████| 3/3 [00:00<00:00, 902.32it/s]\n",
            "Eliminating: diab_pred: 100%|██████████| 3/3 [00:00<00:00, 200.46it/s]\n",
            "Finding Elimination Order: : 100%|██████████| 3/3 [00:00<00:00, 331.56it/s]\n",
            "Eliminating: diab_pred: 100%|██████████| 3/3 [00:00<00:00, 192.66it/s]\n",
            "Finding Elimination Order: : 100%|██████████| 3/3 [00:00<00:00, 376.98it/s]\n",
            "Eliminating: diab_pred:   0%|          | 0/3 [00:00<?, ?it/s]"
          ],
          "name": "stderr"
        },
        {
          "output_type": "stream",
          "text": [
            "\n",
            " 1.Probability of Diabetes given evidence insulin=300\n",
            "+-------------+-----------------+\n",
            "| diabetes    |   phi(diabetes) |\n",
            "+=============+=================+\n",
            "| diabetes(0) |          0.0000 |\n",
            "+-------------+-----------------+\n",
            "| diabetes(1) |          1.0000 |\n",
            "+-------------+-----------------+\n",
            "\n",
            " 2.Probability of Diabetes given evidence glucose concentration=183\n",
            "+-------------+-----------------+\n",
            "| diabetes    |   phi(diabetes) |\n",
            "+=============+=================+\n",
            "| diabetes(0) |          0.2125 |\n",
            "+-------------+-----------------+\n",
            "| diabetes(1) |          0.7875 |\n",
            "+-------------+-----------------+\n",
            "\n",
            " 3.Probability of Diabetes given evidence bmi=25.6\n"
          ],
          "name": "stdout"
        },
        {
          "output_type": "stream",
          "text": [
            "Eliminating: glucose_conc: 100%|██████████| 3/3 [00:00<00:00, 214.65it/s]"
          ],
          "name": "stderr"
        },
        {
          "output_type": "stream",
          "text": [
            "+-------------+-----------------+\n",
            "| diabetes    |   phi(diabetes) |\n",
            "+=============+=================+\n",
            "| diabetes(0) |          0.5052 |\n",
            "+-------------+-----------------+\n",
            "| diabetes(1) |          0.4948 |\n",
            "+-------------+-----------------+\n"
          ],
          "name": "stdout"
        },
        {
          "output_type": "stream",
          "text": [
            "\n"
          ],
          "name": "stderr"
        }
      ]
    }
  ]
}