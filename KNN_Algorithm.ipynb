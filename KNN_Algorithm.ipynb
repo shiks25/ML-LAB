{
  "nbformat": 4,
  "nbformat_minor": 0,
  "metadata": {
    "colab": {
      "name": "KNN_Algo.ipynb",
      "provenance": []
    },
    "kernelspec": {
      "name": "python3",
      "display_name": "Python 3"
    },
    "language_info": {
      "name": "python"
    }
  },
  "cells": [
    {
      "cell_type": "markdown",
      "metadata": {
        "id": "vaIBvxwk1cr2"
      },
      "source": [
        "### Lab9: K-Nearest Neighbor Algorithm\n",
        "### Shikha N\n",
        "### 1BM18CS149\n",
        "\n"
      ]
    },
    {
      "cell_type": "code",
      "metadata": {
        "colab": {
          "base_uri": "https://localhost:8080/"
        },
        "id": "mhxvCmkL30cR",
        "outputId": "8b21f3a6-5ab7-4efc-e4fe-9bd937ea4ba7"
      },
      "source": [
        "import sklearn \n",
        "import pandas as pd\n",
        "from sklearn.datasets import load_iris\n",
        "from sklearn.neighbors import KNeighborsClassifier\n",
        "\n",
        "\n",
        "iris=load_iris()\n",
        "iris.keys()\n",
        "df=pd.DataFrame(iris['data'])\n",
        "print(\"The data looks like this:\\n\")\n",
        "print(df)\n",
        "print(\"\\nThe Traget Features are:\\n\")\n",
        "print(iris['target_names'])\n",
        "iris['feature_names']\n",
        "X=df\n",
        "y=iris['target']"
      ],
      "execution_count": 1,
      "outputs": [
        {
          "output_type": "stream",
          "text": [
            "The data looks like this:\n",
            "\n",
            "       0    1    2    3\n",
            "0    5.1  3.5  1.4  0.2\n",
            "1    4.9  3.0  1.4  0.2\n",
            "2    4.7  3.2  1.3  0.2\n",
            "3    4.6  3.1  1.5  0.2\n",
            "4    5.0  3.6  1.4  0.2\n",
            "..   ...  ...  ...  ...\n",
            "145  6.7  3.0  5.2  2.3\n",
            "146  6.3  2.5  5.0  1.9\n",
            "147  6.5  3.0  5.2  2.0\n",
            "148  6.2  3.4  5.4  2.3\n",
            "149  5.9  3.0  5.1  1.8\n",
            "\n",
            "[150 rows x 4 columns]\n",
            "\n",
            "The Traget Features are:\n",
            "\n",
            "['setosa' 'versicolor' 'virginica']\n"
          ],
          "name": "stdout"
        }
      ]
    },
    {
      "cell_type": "code",
      "metadata": {
        "colab": {
          "base_uri": "https://localhost:8080/"
        },
        "id": "m25n07lz4H1H",
        "outputId": "f6438fb5-4b97-442a-dd9d-138d1913cce4"
      },
      "source": [
        "from sklearn.model_selection import train_test_split\n",
        "X_train, X_test, y_train, y_test = train_test_split(X, y, test_size=0.33, random_state=42)\n",
        "\n",
        "#Training the model with Nearest nighbors K=3\n",
        "knn=KNeighborsClassifier(n_neighbors=3)\n",
        "knn.fit(X_train,y_train)"
      ],
      "execution_count": 2,
      "outputs": [
        {
          "output_type": "execute_result",
          "data": {
            "text/plain": [
              "KNeighborsClassifier(algorithm='auto', leaf_size=30, metric='minkowski',\n",
              "                     metric_params=None, n_jobs=None, n_neighbors=3, p=2,\n",
              "                     weights='uniform')"
            ]
          },
          "metadata": {
            "tags": []
          },
          "execution_count": 2
        }
      ]
    },
    {
      "cell_type": "code",
      "metadata": {
        "colab": {
          "base_uri": "https://localhost:8080/"
        },
        "id": "iK3POstv4-G6",
        "outputId": "8b70457c-7a4e-4268-fa3a-aa623380f5cd"
      },
      "source": [
        "from sklearn.metrics import confusion_matrix\n",
        "from sklearn.metrics import accuracy_score\n",
        "from sklearn.metrics import classification_report\n",
        "y_pred=knn.predict(X_test)\n",
        "cm=confusion_matrix(y_test,y_pred) \n",
        "print(\"1. Confusion matrix:\\n\",cm)\n",
        "print(\"2. Correct predicition\",accuracy_score(y_test,y_pred))\n",
        "print(\"3. Wrong predicition\",(1-accuracy_score(y_test,y_pred)))\n",
        "print('4. Accuracy Metrics')\n",
        "print(classification_report(y_test,y_pred))"
      ],
      "execution_count": 3,
      "outputs": [
        {
          "output_type": "stream",
          "text": [
            "1. Confusion matrix:\n",
            " [[19  0  0]\n",
            " [ 0 15  0]\n",
            " [ 0  1 15]]\n",
            "2. Correct predicition 0.98\n",
            "3. Wrong predicition 0.020000000000000018\n",
            "4. Accuracy Metrics\n",
            "              precision    recall  f1-score   support\n",
            "\n",
            "           0       1.00      1.00      1.00        19\n",
            "           1       0.94      1.00      0.97        15\n",
            "           2       1.00      0.94      0.97        16\n",
            "\n",
            "    accuracy                           0.98        50\n",
            "   macro avg       0.98      0.98      0.98        50\n",
            "weighted avg       0.98      0.98      0.98        50\n",
            "\n"
          ],
          "name": "stdout"
        }
      ]
    },
    {
      "cell_type": "code",
      "metadata": {
        "id": "ecqU-q5k5IL6"
      },
      "source": [
        ""
      ],
      "execution_count": 3,
      "outputs": []
    }
  ]
}